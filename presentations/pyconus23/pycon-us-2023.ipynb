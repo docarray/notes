{
 "cells": [
  {
   "cell_type": "markdown",
   "id": "3d8769bd-1baf-4a7f-a51b-b6acc6fcbb00",
   "metadata": {},
   "source": [
    "# DocArray @ PyCon US 2023!\n",
    "\n",
    "The goal of this notebook is to concisely showcase the **three pillars of DocArray**:\n",
    "\n",
    "- _Represent_\n",
    "- _Send_\n",
    "- _Store_\n",
    "\n",
    "Multimodal data for ML!\n",
    "\n",
    "To do that, the notebook builds a dummy **podcast transcription service**, that represents and loads podcast data, can perform semantic similarity search between podcast episodes, and is served over FastAPI.\n",
    "\n",
    "Keep in mind that this is a _dummy_ application, but it should make clear how you can take the same ideas to a serious project!"
   ]
  },
  {
   "cell_type": "markdown",
   "id": "6d21d71b-3c39-492c-bd74-152db8814548",
   "metadata": {},
   "source": [
    "# Represent\n",
    "\n",
    "Let's represent a Podcast file using DocArray:"
   ]
  },
  {
   "cell_type": "code",
   "execution_count": 1,
   "id": "44f15bf8-052e-42d7-a290-dbd9a0ce7991",
   "metadata": {},
   "outputs": [],
   "source": [
    "# imports\n",
    "from docarray import BaseDoc\n",
    "from docarray.typing import TorchTensor, AudioNdArray, AudioUrl, TextUrl, AnyTensor, AudioTorchTensor\n",
    "from typing import Optional"
   ]
  },
  {
   "cell_type": "code",
   "execution_count": 2,
   "id": "88b0381c-301f-412e-8cd3-322bb622e7a6",
   "metadata": {},
   "outputs": [],
   "source": [
    "# define schema == Document\n",
    "class Podcast(BaseDoc):\n",
    "    # audio\n",
    "    audio_url: AudioUrl\n",
    "    audio_tensor: Optional[AudioTorchTensor]\n",
    "    # text\n",
    "    transcript_url: Optional[TextUrl]\n",
    "    transcript: Optional[str]\n",
    "    # embedding\n",
    "    embedding: Optional[TorchTensor[512]]"
   ]
  },
  {
   "cell_type": "code",
   "execution_count": 3,
   "id": "9b3f4981-ebad-4dde-b133-21e4aeeff052",
   "metadata": {},
   "outputs": [],
   "source": [
    "# creat a Podcast object\n",
    "\n",
    "# url's to our data\n",
    "# could be on the web or local\n",
    "audio_url = './docarray/star-spangled-banner.oga'\n",
    "transcript_url = './docarray/star-spangle-banner-lyrics.txt'\n",
    "\n",
    "# instantiate the object\n",
    "podcast = Podcast(audio_url=audio_url, transcript_url=transcript_url)"
   ]
  },
  {
   "cell_type": "code",
   "execution_count": 4,
   "id": "c6e2eca4-69b1-4667-b249-713beee42d94",
   "metadata": {},
   "outputs": [],
   "source": [
    "# load the data\n",
    "\n",
    "podcast.audio_tensor, frame_rate = podcast.audio_url.load()\n",
    "podcast.transcript = podcast.transcript_url.load()"
   ]
  },
  {
   "cell_type": "code",
   "execution_count": 5,
   "id": "284298e0-71d2-4752-bc78-f82eef2306ed",
   "metadata": {},
   "outputs": [
    {
     "data": {
      "text/html": [
       "<pre style=\"white-space:pre;overflow-x:auto;line-height:normal;font-family:Menlo,'DejaVu Sans Mono',consolas,'Courier New',monospace\">📄 <span style=\"font-weight: bold\">Podcast </span>: <span style=\"color: #008080; text-decoration-color: #008080\">0a4004e ...</span>\n",
       "╭────────────────────────────────┬────────────────────────────────────────────────────────────────────────────────╮\n",
       "│<span style=\"font-weight: bold\"> Attribute                      </span>│<span style=\"font-weight: bold\"> Value                                                                          </span>│\n",
       "├────────────────────────────────┼────────────────────────────────────────────────────────────────────────────────┤\n",
       "│ audio_url: AudioUrl            │ ./docarray/star-spangled-banner.oga                                            │\n",
       "│ audio_tensor: AudioTorchTensor │ AudioTorchTensor of shape (7841920,), dtype: torch.float64                     │\n",
       "│ transcript_url: TextUrl        │ ./docarray/star-spangle-banner-lyrics.txt                                      │\n",
       "│ transcript: str                │ Oh, say can you see, by the dawn’s early light,                                │\n",
       "│                                │ Wh ... (length: 447)                                                           │\n",
       "╰────────────────────────────────┴────────────────────────────────────────────────────────────────────────────────╯\n",
       "</pre>\n"
      ],
      "text/plain": [
       "📄 \u001b[1mPodcast \u001b[0m: \u001b[36m0a4004e ...\u001b[0m\n",
       "╭────────────────────────────────┬────────────────────────────────────────────────────────────────────────────────╮\n",
       "│\u001b[1m \u001b[0m\u001b[1mAttribute                     \u001b[0m\u001b[1m \u001b[0m│\u001b[1m \u001b[0m\u001b[1mValue                                                                         \u001b[0m\u001b[1m \u001b[0m│\n",
       "├────────────────────────────────┼────────────────────────────────────────────────────────────────────────────────┤\n",
       "│ audio_url: AudioUrl            │ ./docarray/star-spangled-banner.oga                                            │\n",
       "│ audio_tensor: AudioTorchTensor │ AudioTorchTensor of shape (7841920,), dtype: torch.float64                     │\n",
       "│ transcript_url: TextUrl        │ ./docarray/star-spangle-banner-lyrics.txt                                      │\n",
       "│ transcript: str                │ Oh, say can you see, by the dawn’s early light,                                │\n",
       "│                                │ Wh ... (length: 447)                                                           │\n",
       "╰────────────────────────────────┴────────────────────────────────────────────────────────────────────────────────╯\n"
      ]
     },
     "metadata": {},
     "output_type": "display_data"
    }
   ],
   "source": [
    "podcast.summary()"
   ]
  },
  {
   "cell_type": "code",
   "execution_count": 6,
   "id": "7f4ae02b-d750-4c42-8094-f95af42b0aa9",
   "metadata": {},
   "outputs": [
    {
     "name": "stdout",
     "output_type": "stream",
     "text": [
      "torch.Size([7841920])\n"
     ]
    },
    {
     "data": {
      "text/html": [
       "<pre style=\"white-space:pre;overflow-x:auto;line-height:normal;font-family:Menlo,'DejaVu Sans Mono',consolas,'Courier New',monospace\">📄 <span style=\"font-weight: bold\">Podcast </span>: <span style=\"color: #008080; text-decoration-color: #008080\">0a4004e ...</span>\n",
       "╭────────────────────────────────┬────────────────────────────────────────────────────────────────────────────────╮\n",
       "│<span style=\"font-weight: bold\"> Attribute                      </span>│<span style=\"font-weight: bold\"> Value                                                                          </span>│\n",
       "├────────────────────────────────┼────────────────────────────────────────────────────────────────────────────────┤\n",
       "│ audio_url: AudioUrl            │ ./docarray/star-spangled-banner.oga                                            │\n",
       "│ audio_tensor: AudioTorchTensor │ AudioTorchTensor of shape (7841920,), dtype: torch.float64                     │\n",
       "│ transcript_url: TextUrl        │ ./docarray/star-spangle-banner-lyrics.txt                                      │\n",
       "│ transcript: str                │ Oh, say can you see, by the dawn’s early light,                                │\n",
       "│                                │ Wh ... (length: 447)                                                           │\n",
       "╰────────────────────────────────┴────────────────────────────────────────────────────────────────────────────────╯\n",
       "</pre>\n"
      ],
      "text/plain": [
       "📄 \u001b[1mPodcast \u001b[0m: \u001b[36m0a4004e ...\u001b[0m\n",
       "╭────────────────────────────────┬────────────────────────────────────────────────────────────────────────────────╮\n",
       "│\u001b[1m \u001b[0m\u001b[1mAttribute                     \u001b[0m\u001b[1m \u001b[0m│\u001b[1m \u001b[0m\u001b[1mValue                                                                         \u001b[0m\u001b[1m \u001b[0m│\n",
       "├────────────────────────────────┼────────────────────────────────────────────────────────────────────────────────┤\n",
       "│ audio_url: AudioUrl            │ ./docarray/star-spangled-banner.oga                                            │\n",
       "│ audio_tensor: AudioTorchTensor │ AudioTorchTensor of shape (7841920,), dtype: torch.float64                     │\n",
       "│ transcript_url: TextUrl        │ ./docarray/star-spangle-banner-lyrics.txt                                      │\n",
       "│ transcript: str                │ Oh, say can you see, by the dawn’s early light,                                │\n",
       "│                                │ Wh ... (length: 447)                                                           │\n",
       "╰────────────────────────────────┴────────────────────────────────────────────────────────────────────────────────╯\n"
      ]
     },
     "metadata": {},
     "output_type": "display_data"
    }
   ],
   "source": [
    "print(podcast.audio_tensor.shape)\n",
    "podcast.summary()"
   ]
  },
  {
   "cell_type": "markdown",
   "id": "97146525-f2ee-405a-a9e5-dd754942c9cf",
   "metadata": {},
   "source": [
    "## Represent batches of data (yay, ML!)\n",
    "\n",
    "You can also represent _batches_ of data, using the `DocVec` class!"
   ]
  },
  {
   "cell_type": "code",
   "execution_count": 7,
   "id": "a5585275-c9be-4f55-8af9-6c1515508560",
   "metadata": {},
   "outputs": [],
   "source": [
    "from docarray import BaseDoc, DocVec\n",
    "from docarray.typing import TorchTensor, AudioNdArray, AudioUrl, TextUrl, AnyTensor\n",
    "from typing import Optional"
   ]
  },
  {
   "cell_type": "code",
   "execution_count": 8,
   "id": "0e6e3b25-56ec-4988-8080-0c646cb0d968",
   "metadata": {},
   "outputs": [
    {
     "name": "stdout",
     "output_type": "stream",
     "text": [
      "torch.Size([3, 7841920])\n"
     ]
    }
   ],
   "source": [
    "# create DocVec\n",
    "pod_vec = DocVec[Podcast]([podcast, podcast, podcast], tensor_type=TorchTensor)\n",
    "print(pod_vec.audio_tensor.shape)"
   ]
  },
  {
   "cell_type": "code",
   "execution_count": 9,
   "id": "c5f7b04f-0dbc-458e-8493-b5c0f2808577",
   "metadata": {},
   "outputs": [],
   "source": [
    "# process using an ML model\n",
    "import torch\n",
    "from torch import nn\n",
    "\n",
    "\n",
    "# define the model\n",
    "class MyAudioModel(nn.Module):\n",
    "    def __init__(self):\n",
    "        super().__init__()\n",
    "        self.linear = nn.Linear(512, 512, dtype=torch.float64)\n",
    "\n",
    "    def forward(self, audio_tensor: TorchTensor['n_batch', 'len_audio']) -> TorchTensor['n_batch', 512]:\n",
    "        return self.linear(audio_tensor[:, :512])\n",
    "\n",
    "\n",
    "model = MyAudioModel()\n",
    "\n",
    "# create and assign embeddings\n",
    "pod_vec.embedding = model(pod_vec.audio_tensor)"
   ]
  },
  {
   "cell_type": "markdown",
   "id": "2536091e-2939-49bc-aa13-397321f1484f",
   "metadata": {},
   "source": [
    "# Send\n",
    "\n",
    "Let's see how you can Documents over FastAPI!"
   ]
  },
  {
   "cell_type": "code",
   "execution_count": 10,
   "id": "2d10a17e-0fe3-417e-b894-8462052c6f47",
   "metadata": {},
   "outputs": [],
   "source": [
    "# imports\n",
    "import numpy as np\n",
    "from fastapi import FastAPI\n",
    "from httpx import AsyncClient\n",
    "\n",
    "from docarray import BaseDoc\n",
    "from docarray.typing import NdArray\n",
    "from docarray.base_doc import DocArrayResponse"
   ]
  },
  {
   "cell_type": "code",
   "execution_count": 11,
   "id": "4a7ddb96-be89-4cef-b80e-959d90f2a211",
   "metadata": {},
   "outputs": [],
   "source": [
    "# defined output model\n",
    "# we _could_ re-use our `Podcas` class, but we want to return something else!\n",
    "\n",
    "class OutputDoc(BaseDoc):\n",
    "    audio_embedding: NdArray[512]\n",
    "    transcript: str"
   ]
  },
  {
   "cell_type": "code",
   "execution_count": 12,
   "id": "d30c3936-f9e1-41b0-a1b6-57d74d8bbd39",
   "metadata": {},
   "outputs": [],
   "source": [
    "# create FastAPI app\n",
    "\n",
    "app = FastAPI()\n",
    "\n",
    "\n",
    "def my_whisper_model(audio_tensor: AnyTensor) -> str:\n",
    "    return 'this is the transcript of your podcast'\n",
    "\n",
    "\n",
    "@app.post(\"/transcribe\", response_model=OutputDoc, response_class=DocArrayResponse)\n",
    "async def transcribe(pod: Podcast) -> OutputDoc:\n",
    "    if not pod.audio_tensor:\n",
    "        pod.audio_tensor, _ = pod.audio_url.load()\n",
    "    embedding = model(pod.audio_tensor.unsqueeze(0))\n",
    "    transcript = pod.transcript if pod.transcript else my_whisper_model(pod.audio_tensor)\n",
    "    return OutputDoc(audio_embedding=embedding.detach().numpy(), transcript=transcript)"
   ]
  },
  {
   "cell_type": "code",
   "execution_count": 13,
   "id": "c26f1250-8916-4c42-ab03-c6a6f9b74025",
   "metadata": {},
   "outputs": [
    {
     "name": "stderr",
     "output_type": "stream",
     "text": [
      "INFO:     Started server process [33423]\n",
      "INFO:     Waiting for application startup.\n",
      "INFO:     Application startup complete.\n",
      "INFO:     Uvicorn running on http://127.0.0.1:8000 (Press CTRL+C to quit)\n"
     ]
    },
    {
     "name": "stdout",
     "output_type": "stream",
     "text": [
      "INFO:     127.0.0.1:56026 - \"POST /transcribe HTTP/1.1\" 200 OK\n"
     ]
    },
    {
     "name": "stderr",
     "output_type": "stream",
     "text": [
      "/home/johannes/Documents/jina/docarrayv2/docarray/typing/tensor/abstract_tensor.py:188: UserWarning: Tensor shape mismatch. Reshaping tensor of shape (1, 512) to shape (512,)\n",
      "  warnings.warn(\n",
      "INFO:     Shutting down\n",
      "INFO:     Waiting for application shutdown.\n",
      "INFO:     Application shutdown complete.\n",
      "INFO:     Finished server process [33423]\n"
     ]
    }
   ],
   "source": [
    "import asyncio\n",
    "import uvicorn\n",
    "\n",
    "if __name__ == \"__main__\":\n",
    "    config = uvicorn.Config(app)\n",
    "    server = uvicorn.Server(config)\n",
    "    await server.serve()"
   ]
  },
  {
   "cell_type": "markdown",
   "id": "e4eb3208-119c-4613-a418-a3f6aa72e9ec",
   "metadata": {},
   "source": [
    "# Store\n",
    "\n",
    "Finally, let's store and retrieve some data using a vector database!"
   ]
  },
  {
   "cell_type": "code",
   "execution_count": 14,
   "id": "090e7d65-7c5a-42fd-be8a-d542361c1689",
   "metadata": {},
   "outputs": [],
   "source": [
    "# imports\n",
    "from docarray.index import HnswDocumentIndex"
   ]
  },
  {
   "cell_type": "code",
   "execution_count": 16,
   "id": "cbe96c1d-a468-4f78-8e12-bba43fd203a8",
   "metadata": {},
   "outputs": [],
   "source": [
    "# create a Document Index\n",
    "# this is our API to access a vector database\n",
    "# in this case, HNSWLib as a local option\n",
    "doc_index = HnswDocumentIndex[Podcast](work_dir='./test11')"
   ]
  },
  {
   "cell_type": "code",
   "execution_count": 17,
   "id": "cdf7c99b-fc82-48b5-89eb-94aa426c661a",
   "metadata": {},
   "outputs": [],
   "source": [
    "# put together our transcription app!\n",
    "@app.post(\"/transcribe_and_index\", response_model=OutputDoc, response_class=DocArrayResponse)\n",
    "async def transcribe_and_index(pod: Podcast) -> OutputDoc:\n",
    "    \"\"\"Creates a transcription and indexes the pod in the Document Index\"\"\"\n",
    "    if not pod.audio_tensor:\n",
    "        pod.audio_tensor, _ = pod.audio_url.load()\n",
    "    pod.embedding = model(pod.audio_tensor.unsqueeze(0))\n",
    "    pod.transcript = pod.transcript if pod.transcript else my_whisper_model(pod.audio_tensor)\n",
    "    doc_index.index([pod])  # add to vector database (Document Index)\n",
    "    return OutputDoc(audio_embedding=pod.embedding.detach().numpy(), transcript=pod.transcript)\n",
    "\n",
    "\n",
    "@app.post(\"/find\", response_model=Podcast, response_class=DocArrayResponse)\n",
    "async def find(pod: Podcast) -> Podcast:\n",
    "    \"\"\"Finds a previously indexed pod based on semantic/vector search\"\"\"\n",
    "    if not pod.embedding:\n",
    "        if not pod.audio_tensor:\n",
    "            pod.audio_tensor, _ = pod.audio_url.load()\n",
    "        pod.embedding = model(pod.audio_tensor.unsqueeze(0))\n",
    "\n",
    "    similar_pods, scores = doc_index.find(pod, search_field='embedding', limit=1)\n",
    "    pod = similar_pods[0]\n",
    "    pod.audio_tensor = None\n",
    "    return pod"
   ]
  },
  {
   "cell_type": "code",
   "execution_count": null,
   "id": "9ec8c259-7f34-48d0-9558-6cff3c722f32",
   "metadata": {},
   "outputs": [
    {
     "name": "stderr",
     "output_type": "stream",
     "text": [
      "INFO:     Started server process [33423]\n",
      "INFO:     Waiting for application startup.\n",
      "INFO:     Application startup complete.\n",
      "INFO:     Uvicorn running on http://127.0.0.1:8000 (Press CTRL+C to quit)\n"
     ]
    },
    {
     "name": "stdout",
     "output_type": "stream",
     "text": [
      "INFO:     127.0.0.1:39596 - \"POST /transcribe HTTP/1.1\" 200 OK\n"
     ]
    },
    {
     "name": "stderr",
     "output_type": "stream",
     "text": [
      "/home/johannes/Documents/jina/docarrayv2/docarray/typing/tensor/abstract_tensor.py:188: UserWarning: Tensor shape mismatch. Reshaping tensor of shape (1, 512) to shape (512,)\n",
      "  warnings.warn(\n"
     ]
    },
    {
     "name": "stdout",
     "output_type": "stream",
     "text": [
      "INFO:     127.0.0.1:56778 - \"POST /find HTTP/1.1\" 500 Internal Server Error\n"
     ]
    },
    {
     "name": "stderr",
     "output_type": "stream",
     "text": [
      "/home/johannes/Documents/jina/docarrayv2/docarray/typing/tensor/abstract_tensor.py:188: UserWarning: Tensor shape mismatch. Reshaping tensor of shape (1, 512) to shape (512,)\n",
      "  warnings.warn(\n",
      "ERROR:    Exception in ASGI application\n",
      "Traceback (most recent call last):\n",
      "  File \"/home/johannes/.cache/pypoetry/virtualenvs/docarray-EljsZLuq-py3.8/lib/python3.8/site-packages/uvicorn/protocols/http/httptools_impl.py\", line 419, in run_asgi\n",
      "    result = await app(  # type: ignore[func-returns-value]\n",
      "  File \"/home/johannes/.cache/pypoetry/virtualenvs/docarray-EljsZLuq-py3.8/lib/python3.8/site-packages/uvicorn/middleware/proxy_headers.py\", line 78, in __call__\n",
      "    return await self.app(scope, receive, send)\n",
      "  File \"/home/johannes/.cache/pypoetry/virtualenvs/docarray-EljsZLuq-py3.8/lib/python3.8/site-packages/fastapi/applications.py\", line 270, in __call__\n",
      "    await super().__call__(scope, receive, send)\n",
      "  File \"/home/johannes/.cache/pypoetry/virtualenvs/docarray-EljsZLuq-py3.8/lib/python3.8/site-packages/starlette/applications.py\", line 124, in __call__\n",
      "    await self.middleware_stack(scope, receive, send)\n",
      "  File \"/home/johannes/.cache/pypoetry/virtualenvs/docarray-EljsZLuq-py3.8/lib/python3.8/site-packages/starlette/middleware/errors.py\", line 184, in __call__\n",
      "    raise exc\n",
      "  File \"/home/johannes/.cache/pypoetry/virtualenvs/docarray-EljsZLuq-py3.8/lib/python3.8/site-packages/starlette/middleware/errors.py\", line 162, in __call__\n",
      "    await self.app(scope, receive, _send)\n",
      "  File \"/home/johannes/.cache/pypoetry/virtualenvs/docarray-EljsZLuq-py3.8/lib/python3.8/site-packages/starlette/middleware/exceptions.py\", line 79, in __call__\n",
      "    raise exc\n",
      "  File \"/home/johannes/.cache/pypoetry/virtualenvs/docarray-EljsZLuq-py3.8/lib/python3.8/site-packages/starlette/middleware/exceptions.py\", line 68, in __call__\n",
      "    await self.app(scope, receive, sender)\n",
      "  File \"/home/johannes/.cache/pypoetry/virtualenvs/docarray-EljsZLuq-py3.8/lib/python3.8/site-packages/fastapi/middleware/asyncexitstack.py\", line 21, in __call__\n",
      "    raise e\n",
      "  File \"/home/johannes/.cache/pypoetry/virtualenvs/docarray-EljsZLuq-py3.8/lib/python3.8/site-packages/fastapi/middleware/asyncexitstack.py\", line 18, in __call__\n",
      "    await self.app(scope, receive, send)\n",
      "  File \"/home/johannes/.cache/pypoetry/virtualenvs/docarray-EljsZLuq-py3.8/lib/python3.8/site-packages/starlette/routing.py\", line 706, in __call__\n",
      "    await route.handle(scope, receive, send)\n",
      "  File \"/home/johannes/.cache/pypoetry/virtualenvs/docarray-EljsZLuq-py3.8/lib/python3.8/site-packages/starlette/routing.py\", line 276, in handle\n",
      "    await self.app(scope, receive, send)\n",
      "  File \"/home/johannes/.cache/pypoetry/virtualenvs/docarray-EljsZLuq-py3.8/lib/python3.8/site-packages/starlette/routing.py\", line 66, in app\n",
      "    response = await func(request)\n",
      "  File \"/home/johannes/.cache/pypoetry/virtualenvs/docarray-EljsZLuq-py3.8/lib/python3.8/site-packages/fastapi/routing.py\", line 235, in app\n",
      "    raw_response = await run_endpoint_function(\n",
      "  File \"/home/johannes/.cache/pypoetry/virtualenvs/docarray-EljsZLuq-py3.8/lib/python3.8/site-packages/fastapi/routing.py\", line 161, in run_endpoint_function\n",
      "    return await dependant.call(**values)\n",
      "  File \"/tmp/ipykernel_33423/81906580.py\", line 21, in find\n",
      "    similar_pods, scores = doc_index.find(pod, search_field='embedding', limit=1)\n",
      "  File \"/home/johannes/Documents/jina/docarrayv2/docarray/index/abstract.py\", line 420, in find\n",
      "    docs, scores = self._find(\n",
      "  File \"/home/johannes/Documents/jina/docarrayv2/docarray/index/backends/hnswlib.py\", line 298, in _find\n",
      "    docs, scores = self._find_batched(\n",
      "  File \"/home/johannes/Documents/jina/docarrayv2/docarray/index/backends/hnswlib.py\", line 285, in _find_batched\n",
      "    labels, distances = index.knn_query(queries, k=limit)\n",
      "RuntimeError: Cannot return the results in a contigious 2D array. Probably ef or M is too small\n"
     ]
    }
   ],
   "source": [
    "import asyncio\n",
    "import uvicorn\n",
    "\n",
    "if __name__ == \"__main__\":\n",
    "    config = uvicorn.Config(app)\n",
    "    server = uvicorn.Server(config)\n",
    "    await server.serve()"
   ]
  },
  {
   "cell_type": "code",
   "execution_count": null,
   "id": "83f22af0-1f08-42b6-91fc-7ebae1886943",
   "metadata": {},
   "outputs": [],
   "source": []
  }
 ],
 "metadata": {
  "kernelspec": {
   "display_name": "Python 3 (ipykernel)",
   "language": "python",
   "name": "python3"
  },
  "language_info": {
   "codemirror_mode": {
    "name": "ipython",
    "version": 3
   },
   "file_extension": ".py",
   "mimetype": "text/x-python",
   "name": "python",
   "nbconvert_exporter": "python",
   "pygments_lexer": "ipython3",
   "version": "3.8.10"
  }
 },
 "nbformat": 4,
 "nbformat_minor": 5
}
